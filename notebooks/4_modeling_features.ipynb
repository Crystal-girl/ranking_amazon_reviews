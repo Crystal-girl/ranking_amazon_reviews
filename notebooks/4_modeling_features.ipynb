{
 "cells": [
  {
   "cell_type": "markdown",
   "metadata": {},
   "source": [
    "#### Load Data"
   ]
  },
  {
   "cell_type": "code",
   "execution_count": 1,
   "metadata": {
    "collapsed": true
   },
   "outputs": [],
   "source": [
    "import pickle\n",
    "import numpy as np\n",
    "import pandas as pd\n",
    "import matplotlib.pyplot as plt\n",
    "\n",
    "from sklearn.svm import SVC\n",
    "from sklearn.metrics import accuracy_score\n",
    "from sklearn.preprocessing import StandardScaler\n",
    "from sklearn.ensemble import RandomForestClassifier\n",
    "from sklearn.model_selection import train_test_split"
   ]
  },
  {
   "cell_type": "code",
   "execution_count": 2,
   "metadata": {
    "collapsed": true
   },
   "outputs": [],
   "source": [
    "df_cols = np.load('data/df_cols.npy')\n",
    "\n",
    "X_test = pd.DataFrame(np.load('data/X_test.npy'), columns=df_cols)\n",
    "X_train = pd.DataFrame(np.load('data/X_train.npy'), columns=df_cols)\n",
    "X_val = pd.DataFrame(np.load('data/X_val.npy'), columns=df_cols)\n",
    "\n",
    "y_test = np.load('data/y_test.npy')\n",
    "y_train = np.load('data/y_train.npy')\n",
    "y_val = np.load('data/y_val.npy')\n"
   ]
  },
  {
   "cell_type": "code",
   "execution_count": 3,
   "metadata": {},
   "outputs": [
    {
     "data": {
      "text/plain": [
       "((53480, 29), (18183, 29), (17471, 29))"
      ]
     },
     "execution_count": 3,
     "metadata": {},
     "output_type": "execute_result"
    }
   ],
   "source": [
    "def select_fetures(X_train, X_test, X_val, features):\n",
    "    return X_train[features], X_test[features], X_val[features]\n",
    "\n",
    "features = ['Score', 'Time', 'WordsCount', 'Total_Reviews_by_Reviewer',\n",
    "        'ProductFrequency', 'WordCount', 'WordCountSummary', 'StopWords',\n",
    "        'UpperCount', 'LowerCount', 'LowerCountSummary', 'DotCount',\n",
    "        'CountPunctuation', 'CountDigits', 'Lexical', 'UpperLowerR',\n",
    "        'UpperLowerSumR', 'DotCapitalR', 'DotCapitalSumR', 'CapitalsRatio',\n",
    "        'neg', 'neu', 'pos', 'compound', 'ProductFreqlog',\n",
    "        'ReviewsbyReviewerlog', 'WordCountlog', 'Month', 'Day']\n",
    "\n",
    "X_train, X_test, X_val  = select_fetures(X_train, X_test, X_val, features)\n",
    "\n",
    "X_train.shape, X_test.shape, X_val.shape"
   ]
  },
  {
   "cell_type": "markdown",
   "metadata": {},
   "source": [
    "#### Random Forest\n",
    "\n",
    "##### Get the Best Random Forest Parmeters from the Grid Search\n",
    "\n",
    "Parameters: {'bootstrap': False, 'max_depth': 200, \n",
    "             'max_features': 'sqrt', 'min_samples_leaf': 3,\n",
    "             'n_estimators': 300}"
   ]
  },
  {
   "cell_type": "code",
   "execution_count": 4,
   "metadata": {},
   "outputs": [
    {
     "name": "stdout",
     "output_type": "stream",
     "text": [
      "Validation accuracy score:  0.6622975216072349\n",
      "Train accuracy score:  0.9972139117427076\n"
     ]
    }
   ],
   "source": [
    "clf = RandomForestClassifier(n_estimators=300, max_depth=200, min_samples_leaf=3, \n",
    "                             max_features='sqrt', bootstrap=False)\n",
    "\n",
    "clf.fit(X_train, y_train)\n",
    "rnd_val_pred = clf.predict(X_val)\n",
    "rnd_train_pred = clf.predict(X_train)\n",
    "\n",
    "print(\"Validation accuracy score: \", accuracy_score(rnd_val_pred, y_val))\n",
    "print(\"Train accuracy score: \", accuracy_score(rnd_train_pred, y_train))\n"
   ]
  },
  {
   "cell_type": "code",
   "execution_count": 5,
   "metadata": {
    "collapsed": true
   },
   "outputs": [],
   "source": [
    "from sklearn.externals import joblib\n",
    "\n",
    "# Export All essensial variables:\n",
    "joblib.dump(clf, 'data/rnd_forest_best.pk1')\n",
    "# Export the training features:\n",
    "with open('data/rnd_val_pred.pkl', 'wb') as f:\n",
    "    pickle.dump(rnd_val_pred ,f)\n",
    "\n",
    "# Export validation and test data:\n",
    "with open('data/rnd_train_pred.pkl', 'wb') as f:\n",
    "    pickle.dump(rnd_train_pred ,f)"
   ]
  },
  {
   "cell_type": "code",
   "execution_count": 6,
   "metadata": {
    "collapsed": true
   },
   "outputs": [],
   "source": [
    "# Save proba:\n",
    "rfc_fe_train_proba = clf.predict_proba(X_train)\n",
    "rfc_fe_val_proba = clf.predict_proba(X_val)\n",
    "rfc_fe_test_proba = clf.predict_proba(X_test)\n",
    "\n",
    "with open('data/proba/rfc_fe_train_proba.pkl', 'wb') as f:\n",
    "    pickle.dump(rfc_fe_train_proba, f)\n",
    "    \n",
    "with open('data/proba/rfc_fe_val_proba.pkl', 'wb') as f:\n",
    "    pickle.dump(rfc_fe_val_proba, f)\n",
    "    \n",
    "with open('data/proba/rfc_fe_test_proba.pkl', 'wb') as f:\n",
    "    pickle.dump(rfc_fe_test_proba, f)"
   ]
  },
  {
   "cell_type": "markdown",
   "metadata": {},
   "source": [
    "#### SVM"
   ]
  },
  {
   "cell_type": "code",
   "execution_count": 4,
   "metadata": {},
   "outputs": [
    {
     "name": "stdout",
     "output_type": "stream",
     "text": [
      "Transform...\n",
      "Fit...\n",
      "Predict...\n",
      "Validation accuracy score:  0.6226317898231355\n",
      "Train accuracy score:  0.9955684367988032\n"
     ]
    }
   ],
   "source": [
    "scaler = StandardScaler() # Scale features\n",
    "clf_svm = SVC(probability=True, gamma=0.33, C=10)\n",
    "\n",
    "print(\"Transform...\")\n",
    "X_train_scaled = scaler.fit_transform(X_train)\n",
    "X_val_scaled = scaler.transform(X_val)\n",
    "X_test_scaled = scaler.transform(X_test)\n",
    "\n",
    "print(\"Fit...\")\n",
    "clf_svm.fit(X_train_scaled, y_train)\n",
    "\n",
    "print(\"Predict...\")\n",
    "svm_val_pred = clf_svm.predict(X_val_scaled)\n",
    "svm_train_pred = clf_svm.predict(X_train_scaled)\n",
    "\n",
    "print(\"Validation accuracy score: \", accuracy_score(svm_val_pred, y_val))\n",
    "print(\"Train accuracy score: \", accuracy_score(svm_train_pred, y_train))"
   ]
  },
  {
   "cell_type": "code",
   "execution_count": 5,
   "metadata": {
    "collapsed": true
   },
   "outputs": [],
   "source": [
    "# Save proba:\n",
    "svm_fe_train_proba = clf_svm.predict_proba(X_train_scaled)\n",
    "svm_fe_val_proba = clf_svm.predict_proba(X_val_scaled)\n",
    "svm_fe_test_proba = clf_svm.predict_proba(X_test_scaled)\n",
    "\n",
    "with open('data/proba/svm_fe_train_proba.pkl', 'wb') as f:\n",
    "    pickle.dump(svm_fe_train_proba, f)\n",
    "    \n",
    "with open('data/proba/svm_fe_val_proba.pkl', 'wb') as f:\n",
    "    pickle.dump(svm_fe_val_proba, f)\n",
    "    \n",
    "with open('data/proba/svm_fe_test_proba.pkl', 'wb') as f:\n",
    "    pickle.dump(svm_fe_test_proba, f)"
   ]
  },
  {
   "cell_type": "code",
   "execution_count": 6,
   "metadata": {},
   "outputs": [
    {
     "data": {
      "text/plain": [
       "(18183, 11)"
      ]
     },
     "execution_count": 6,
     "metadata": {},
     "output_type": "execute_result"
    }
   ],
   "source": [
    "svm_fe_test_proba.shape"
   ]
  },
  {
   "cell_type": "code",
   "execution_count": 7,
   "metadata": {},
   "outputs": [
    {
     "data": {
      "text/plain": [
       "0.9954562453253553"
      ]
     },
     "execution_count": 7,
     "metadata": {},
     "output_type": "execute_result"
    }
   ],
   "source": [
    "def validate_accuracy(proba, y):\n",
    "    prediction = proba.argmax(axis=1)\n",
    "#     print(prediction.shape, y.shape)\n",
    "    return accuracy_score(y, prediction)\n",
    "validate_accuracy(svm_fe_train_proba, y_train)"
   ]
  },
  {
   "cell_type": "markdown",
   "metadata": {},
   "source": [
    "#### XGBOOST"
   ]
  },
  {
   "cell_type": "code",
   "execution_count": null,
   "metadata": {
    "collapsed": true
   },
   "outputs": [],
   "source": [
    "from numpy import loadtxt\n",
    "from xgboost import XGBClassifier\n",
    "\n",
    "X_train = X_train.astype('float64')\n",
    "X_val = X_val.astype('float64')\n",
    "X_test = X_test.astype('float64')\n",
    "\n",
    "\n",
    "model = XGBClassifier(learning_rate=0.5, max_depth=10, n_estimators=200)\n",
    "model.fit(X_train, y_train)\n",
    "\n",
    "# make predictions for test data\n",
    "y_pred = model.predict(X_test)\n",
    "predictions = [round(value) for value in y_pred_test]\n",
    "\n",
    "# evaluate predictions\n",
    "accuracy = accuracy_score(y_test, predictions)\n",
    "print(\"Accuracy test: %.2f%%\" % (accuracy * 100.0))\n",
    "\n",
    "y_pred_train = model.predict(X_train)\n",
    "predictions_train = [round(value) for value in y_pred_train]\n",
    "\n",
    "accuracy = accuracy_score(y_train, predictions_train)\n",
    "print(\"Accuracy train: %.2f%%\" % (accuracy * 100.0))\n",
    "\n",
    "y_pred_val = model.predict(X_val)\n",
    "predictions_val = [round(value) for value in y_pred_val]\n",
    "\n",
    "accuracy = accuracy_score(y_val, predictions_val)\n",
    "print(\"Accuracy val: %.2f%%\" % (accuracy * 100.0))"
   ]
  },
  {
   "cell_type": "code",
   "execution_count": null,
   "metadata": {
    "collapsed": true
   },
   "outputs": [],
   "source": [
    "xgb_fe_train_proba = model.predict_proba(X_train)\n",
    "xgb_fe_val_proba = model.predict_proba(X_val)\n",
    "xgb_fe_test_proba = model.predict_proba(X_test)"
   ]
  },
  {
   "cell_type": "code",
   "execution_count": null,
   "metadata": {
    "collapsed": true
   },
   "outputs": [],
   "source": [
    "with open('data/proba/xgb_fe_train_proba.pkl', 'wb') as f:\n",
    "    pickle.dump(xgb_fe_train_proba, f)\n",
    "    \n",
    "with open('data/proba/xgb_fe_val_proba.pkl', 'wb') as f:\n",
    "    pickle.dump(xgb_fe_val_proba, f)\n",
    "    \n",
    "with open('data/proba/xgb_fe_test_proba.pkl', 'wb') as f:\n",
    "    pickle.dump(xgb_fe_test_proba, f)"
   ]
  }
 ],
 "metadata": {
  "kernelspec": {
   "display_name": "Python 3",
   "language": "python",
   "name": "python3"
  },
  "language_info": {
   "codemirror_mode": {
    "name": "ipython",
    "version": 3
   },
   "file_extension": ".py",
   "mimetype": "text/x-python",
   "name": "python",
   "nbconvert_exporter": "python",
   "pygments_lexer": "ipython3",
   "version": "3.6.2"
  }
 },
 "nbformat": 4,
 "nbformat_minor": 2
}
