{
 "cells": [
  {
   "cell_type": "markdown",
   "metadata": {},
   "source": [
    "#### Load Data\n"
   ]
  },
  {
   "cell_type": "code",
   "execution_count": 1,
   "metadata": {
    "collapsed": true
   },
   "outputs": [],
   "source": [
    "import pickle\n",
    "import numpy as np\n",
    "import pandas as pd"
   ]
  },
  {
   "cell_type": "markdown",
   "metadata": {},
   "source": [
    "#### Tfidf & Bag-of-Words Using spaCy"
   ]
  },
  {
   "cell_type": "code",
   "execution_count": 2,
   "metadata": {
    "collapsed": true
   },
   "outputs": [],
   "source": [
    "from sklearn.feature_extraction.stop_words import ENGLISH_STOP_WORDS as stopwords \n",
    "from sklearn.feature_extraction.text import CountVectorizer \n",
    "from sklearn.metrics import accuracy_score \n",
    "from sklearn.base import TransformerMixin \n",
    "from sklearn.pipeline import Pipeline\n",
    "from sklearn.svm import LinearSVC\n",
    "\n",
    "import string"
   ]
  },
  {
   "cell_type": "code",
   "execution_count": 3,
   "metadata": {},
   "outputs": [
    {
     "data": {
      "text/plain": [
       "((53480, 50), (18183, 50), (17471, 50))"
      ]
     },
     "execution_count": 3,
     "metadata": {},
     "output_type": "execute_result"
    }
   ],
   "source": [
    "df_cols = np.load('data/df_cols.npy')\n",
    "\n",
    "X_test = pd.DataFrame(np.load('data/X_test.npy'), columns=df_cols)\n",
    "X_train = pd.DataFrame(np.load('data/X_train.npy'), columns=df_cols)\n",
    "X_val = pd.DataFrame(np.load('data/X_val.npy'), columns=df_cols)\n",
    "\n",
    "y_test = np.load('data/y_test.npy')\n",
    "y_train = np.load('data/y_train.npy')\n",
    "y_val = np.load('data/y_val.npy')\n",
    "\n",
    "X_train.shape, X_test.shape, X_val.shape"
   ]
  },
  {
   "cell_type": "markdown",
   "metadata": {},
   "source": [
    "##### XGBoost Classifier - bof"
   ]
  },
  {
   "cell_type": "code",
   "execution_count": 4,
   "metadata": {},
   "outputs": [
    {
     "name": "stderr",
     "output_type": "stream",
     "text": [
      "/opt/conda/lib/python3.6/site-packages/sklearn/preprocessing/label.py:151: DeprecationWarning: The truth value of an empty array is ambiguous. Returning False, but in future this will result in an error. Use `array.size > 0` to check that an array is not empty.\n",
      "  if diff:\n"
     ]
    },
    {
     "name": "stdout",
     "output_type": "stream",
     "text": [
      "Validation accuracy score:  0.6210291339934749\n",
      "Training accuracy score:  0.9961667913238594\n"
     ]
    },
    {
     "name": "stderr",
     "output_type": "stream",
     "text": [
      "/opt/conda/lib/python3.6/site-packages/sklearn/preprocessing/label.py:151: DeprecationWarning: The truth value of an empty array is ambiguous. Returning False, but in future this will result in an error. Use `array.size > 0` to check that an array is not empty.\n",
      "  if diff:\n"
     ]
    }
   ],
   "source": [
    "#create vectorizer object to generate feature vectors, we will use custom spacy’s tokenizer\n",
    "from xgboost import XGBClassifier\n",
    "vectorizer = CountVectorizer(min_df= 5,  ngram_range=(1,1))\n",
    "classifier = XGBClassifier(learning_rate=1, max_depth=40)\n",
    "\n",
    "# Create the  pipeline to clean, tokenize, vectorize, and classify \n",
    "pipe = Pipeline([('vectorizer', vectorizer),\n",
    "                 ('classifier', classifier)])\n",
    "\n",
    "\n",
    "# Load sample data\n",
    "train = list(zip(X_train['Text_clean'], y_train))\n",
    "val = list(zip(X_val['Text_clean'], y_val))\n",
    "test = list(zip(X_test['Text_clean'], y_test))\n",
    "            \n",
    "# Create model and measure accuracy\n",
    "pipe.fit([x[0] for x in train], [x[1] for x in train]) \n",
    "pred_data_val = pipe.predict([x[0] for x in val]) \n",
    "pred_data_train = pipe.predict([x[0] for x in train]) \n",
    "\n",
    "print(\"Validation accuracy score: \", accuracy_score(y_val, pred_data_val))\n",
    "print(\"Training accuracy score: \", accuracy_score(y_train, pred_data_train))"
   ]
  },
  {
   "cell_type": "code",
   "execution_count": 5,
   "metadata": {
    "collapsed": true
   },
   "outputs": [],
   "source": [
    "# Save proba:\n",
    "xgb_bow_train_proba = pipe.predict_proba([x[0] for x in train])\n",
    "xgb_bow_val_proba = pipe.predict_proba([x[0] for x in val])\n",
    "xgb_bow_test_proba = pipe.predict_proba([x[0] for x in test])"
   ]
  },
  {
   "cell_type": "code",
   "execution_count": 6,
   "metadata": {
    "collapsed": true
   },
   "outputs": [],
   "source": [
    "with open('xgb_bow_train_proba.pkl', 'wb') as f:\n",
    "    pickle.dump(xgb_bow_train_proba, f)\n",
    "    \n",
    "with open('xgb_bow_val_proba.pkl', 'wb') as f:\n",
    "    pickle.dump(xgb_bow_val_proba, f)\n",
    "    \n",
    "with open('xgb_bow_test_proba.pkl', 'wb') as f:\n",
    "    pickle.dump(xgb_bow_test_proba, f)"
   ]
  },
  {
   "cell_type": "markdown",
   "metadata": {},
   "source": [
    "#### XGBOOST - tfidf"
   ]
  },
  {
   "cell_type": "code",
   "execution_count": 7,
   "metadata": {},
   "outputs": [
    {
     "name": "stderr",
     "output_type": "stream",
     "text": [
      "/opt/conda/lib/python3.6/site-packages/sklearn/preprocessing/label.py:151: DeprecationWarning: The truth value of an empty array is ambiguous. Returning False, but in future this will result in an error. Use `array.size > 0` to check that an array is not empty.\n",
      "  if diff:\n"
     ]
    },
    {
     "name": "stdout",
     "output_type": "stream",
     "text": [
      "Validation accuracy score:  0.6232041669051571\n",
      "Training accuracy score:  0.9961854899027673\n"
     ]
    },
    {
     "name": "stderr",
     "output_type": "stream",
     "text": [
      "/opt/conda/lib/python3.6/site-packages/sklearn/preprocessing/label.py:151: DeprecationWarning: The truth value of an empty array is ambiguous. Returning False, but in future this will result in an error. Use `array.size > 0` to check that an array is not empty.\n",
      "  if diff:\n"
     ]
    }
   ],
   "source": [
    "from sklearn.feature_extraction.text import TfidfVectorizer \n",
    "\n",
    "#create vectorizer object to generate feature vectors, we will use custom spacy’s tokenizer\n",
    "vectorizer = TfidfVectorizer(min_df= 5,  ngram_range=(1,1))\n",
    "classifier = XGBClassifier(learning_rate=1, max_depth=40)\n",
    "\n",
    "# Create the  pipeline to clean, tokenize, vectorize, and classify \n",
    "pipe = Pipeline([('vectorizer', vectorizer),\n",
    "                 ('classifier', classifier)])\n",
    "\n",
    "\n",
    "# Load sample data\n",
    "train = list(zip(X_train['Text_clean'], y_train))\n",
    "val = list(zip(X_val['Text_clean'], y_val))\n",
    "test = list(zip(X_test['Text_clean'], y_test))\n",
    "\n",
    "# Create model and measure accuracy\n",
    "pipe.fit([x[0] for x in train], [x[1] for x in train]) \n",
    "pred_data_val = pipe.predict([x[0] for x in val]) \n",
    "pred_data_train = pipe.predict([x[0] for x in train]) \n",
    "\n",
    "print(\"Validation accuracy score: \", accuracy_score(y_val, pred_data_val))\n",
    "print(\"Training accuracy score: \", accuracy_score(y_train, pred_data_train))"
   ]
  },
  {
   "cell_type": "code",
   "execution_count": 8,
   "metadata": {
    "collapsed": true
   },
   "outputs": [],
   "source": [
    "# Save proba:\n",
    "xgb_tfidf_train_proba = pipe.predict_proba([x[0] for x in train])\n",
    "xgb_tfidf_val_proba = pipe.predict_proba([x[0] for x in val])\n",
    "xgb_tfidf_test_proba = pipe.predict_proba([x[0] for x in test])"
   ]
  },
  {
   "cell_type": "code",
   "execution_count": 9,
   "metadata": {
    "collapsed": true
   },
   "outputs": [],
   "source": [
    "with open('xgb_tfidf_train_proba.pkl', 'wb') as f:\n",
    "    pickle.dump(xgb_tfidf_train_proba, f)\n",
    "    \n",
    "with open('xgb_tfidf_val_proba.pkl', 'wb') as f:\n",
    "    pickle.dump(xgb_tfidf_val_proba, f)\n",
    "    \n",
    "with open('xgb_tfidf_test_proba.pkl', 'wb') as f:\n",
    "    pickle.dump(xgb_tfidf_test_proba, f)"
   ]
  },
  {
   "cell_type": "code",
   "execution_count": null,
   "metadata": {
    "collapsed": true
   },
   "outputs": [],
   "source": []
  }
 ],
 "metadata": {
  "kernelspec": {
   "display_name": "Python 3",
   "language": "python",
   "name": "python3"
  },
  "language_info": {
   "codemirror_mode": {
    "name": "ipython",
    "version": 3
   },
   "file_extension": ".py",
   "mimetype": "text/x-python",
   "name": "python",
   "nbconvert_exporter": "python",
   "pygments_lexer": "ipython3",
   "version": "3.6.2"
  }
 },
 "nbformat": 4,
 "nbformat_minor": 2
}
