{
 "cells": [
  {
   "cell_type": "code",
   "execution_count": 38,
   "metadata": {
    "collapsed": true
   },
   "outputs": [],
   "source": [
    "import pickle\n",
    "import numpy as np\n",
    "import matplotlib.pyplot as plt\n",
    "\n",
    "from sklearn.metrics import accuracy_score\n",
    "from sklearn.ensemble import RandomForestClassifier\n",
    "from sklearn.model_selection import train_test_split"
   ]
  },
  {
   "cell_type": "code",
   "execution_count": 47,
   "metadata": {
    "collapsed": true
   },
   "outputs": [],
   "source": [
    "with open('data/reviews_post_feature_eng.pkl', 'rb') as f:\n",
    "    reviews = pickle.load(f)"
   ]
  },
  {
   "cell_type": "markdown",
   "metadata": {},
   "source": [
    "#### Feature Importance: All Features"
   ]
  },
  {
   "cell_type": "code",
   "execution_count": 48,
   "metadata": {
    "collapsed": true
   },
   "outputs": [],
   "source": [
    "def select_fetures(dataset, features):\n",
    "    return dataset[features]"
   ]
  },
  {
   "cell_type": "code",
   "execution_count": 49,
   "metadata": {
    "collapsed": true
   },
   "outputs": [],
   "source": [
    "features = ['HelpfullnessRank', 'Score', 'Time', \n",
    "       'WordsCount',  'Total_Reviews_by_Reviewer',\n",
    "       'ProductFrequency', 'WordCount',\n",
    "       'WordCountSummary', 'StopWords', 'UpperCount', 'UpperCountSummary',\n",
    "       'LowerCount', 'LowerCountSummary', 'DotCount', 'DotCountSummary',\n",
    "       'Exclamation', 'ExclamationSummary', 'Question', 'QuestionSummary',\n",
    "       'CountPunctuation', 'CountPunctuationSummary', 'CountDigits',\n",
    "       'CountDigitsSummary', 'Lexical', 'LexicalSummary', 'UpperLowerR',\n",
    "       'UpperLowerSumR', 'DotCapitalR', 'DotCapitalSumR', 'CapitalsRatio',\n",
    "       'neg', 'neu', 'pos', 'compound', 'ProductFreqlog',\n",
    "       'ReviewsbyReviewerlog', 'WordCountlog', 'Year', 'Month',\n",
    "       'Day']\n",
    "\n",
    "reviews_features = select_fetures(reviews, features)"
   ]
  },
  {
   "cell_type": "code",
   "execution_count": 50,
   "metadata": {},
   "outputs": [
    {
     "data": {
      "text/plain": [
       "((53481, 39), (17827, 39), (17827, 39))"
      ]
     },
     "execution_count": 50,
     "metadata": {},
     "output_type": "execute_result"
    }
   ],
   "source": [
    "label = 'HelpfullnessRank'\n",
    "X = reviews_features.drop(label, axis=1)\n",
    "y = reviews_features\n",
    "\n",
    "# Split to train, test and validation datasets:\n",
    "X_train, X_test, y_train, y_test = train_test_split(X, y, test_size=0.4)\n",
    "X_test, X_val, y_test, y_val = train_test_split(X_test, y_test, test_size=0.5)\n",
    "\n",
    "X_train.shape, X_test.shape, X_val.shape"
   ]
  },
  {
   "cell_type": "code",
   "execution_count": 17,
   "metadata": {},
   "outputs": [
    {
     "name": "stdout",
     "output_type": "stream",
     "text": [
      "Validation accuracy score:  0.6251192012116452\n",
      "Train accuracy score:  0.9919597614105944\n"
     ]
    }
   ],
   "source": [
    "clf = RandomForestClassifier()\n",
    "clf.fit(X_train, y_train[label])\n",
    "rnd_val_pred = clf.predict(X_val)\n",
    "rnd_train_pred = clf.predict(X_train)\n",
    "print(\"Validation accuracy score: \", accuracy_score(rnd_val_pred, y_val[label]))\n",
    "print(\"Train accuracy score: \", accuracy_score(rnd_train_pred, y_train[label]))"
   ]
  },
  {
   "cell_type": "code",
   "execution_count": 24,
   "metadata": {
    "collapsed": true
   },
   "outputs": [],
   "source": [
    "feature_importance_full = list(zip(X_train.columns, clf.feature_importances_))\n",
    "\n",
    "with open('data/feature_importance_full.pkl', 'wb') as f:\n",
    "    pickle.dump(feature_importance_full, f)"
   ]
  },
  {
   "cell_type": "markdown",
   "metadata": {},
   "source": [
    "#### Feature Selection"
   ]
  },
  {
   "cell_type": "code",
   "execution_count": 35,
   "metadata": {
    "collapsed": true
   },
   "outputs": [],
   "source": [
    "from sklearn.feature_selection import RFE\n",
    "from IPython.display import clear_output\n",
    "\n",
    "\n",
    "def eliminate_features(X, y, n_features):\n",
    "    \"\"\"\n",
    "    Eliminate features from data set\n",
    "    \n",
    "    Args:\n",
    "        X(pd.DataFram): dataset's features\n",
    "        y(pd.Series): dataset's labels\n",
    "        n_features(int): the required number of features\n",
    "    \n",
    "    Returns:\n",
    "        np.array: features mask\n",
    "    \"\"\"\n",
    "    estimator = RandomForestClassifier()\n",
    "    selector = RFE(estimator, n_features)\n",
    "    selector = selector.fit(X, y)\n",
    "    feature_mask = selector.support_\n",
    "    \n",
    "    return feature_mask\n",
    "\n",
    "def rnd_forest(X, y, features_mask):\n",
    "    \"\"\"\n",
    "    Split the dataset into test and train using the feature elimination mask and returns the mse score\n",
    "    for linear regression\n",
    "    \n",
    "    Args:\n",
    "       X(pd.DataFram): dataset's features\n",
    "       y(pd.Series): dataset's labels\n",
    "       features_mask(np.array): the required number of features\n",
    "    \n",
    "    \n",
    "    Returns:\n",
    "        (float): mse accuracy score for linear regression model\n",
    "    \n",
    "    \"\"\"\n",
    "    X = X.loc[:,features_mask]\n",
    "    \n",
    "    # Split to train, test and validation datasets:\n",
    "    X_train, X_test, y_train, y_test = train_test_split(X, y, test_size=0.4)\n",
    "    X_test, X_val, y_test, y_val = train_test_split(X_test, y_test, test_size=0.5)\n",
    "    \n",
    "    \n",
    "    # Use Random Forest:\n",
    "    clf = RandomForestClassifier()\n",
    "    clf.fit(X_train, y_train)\n",
    "    \n",
    "    # Predict \n",
    "    y_pred = clf.predict(X_val)\n",
    "    # Calculate accuracy_score and return:\n",
    "    return accuracy_score(y_val, y_pred)\n",
    "\n",
    "\n",
    "def rnd_vs_features(X, y, original_feature_no ):\n",
    "    \"\"\"\n",
    "    Plot the mse score vs. the number of features used for linear regression\n",
    "    \n",
    "    Args:\n",
    "        X(pd.DataFram): dataset's features\n",
    "        y(pd.Series): dataset's labels \n",
    "        original_feature_no(int): the original number of features\n",
    "    \"\"\"\n",
    "    accuracy_scores = []\n",
    "    feature_masks = []\n",
    "    feature_no = np.arange(1, original_feature_no + 1)\n",
    "    \n",
    "    for n in feature_no:\n",
    "        print(n)\n",
    "        clear_output(wait=True)\n",
    "        features_mask = eliminate_features(X, y, n)\n",
    "        accuracy_scores.append(rnd_forest(X, y, features_mask))\n",
    "        feature_masks.append(features_mask)\n",
    "    return accuracy_scores, feature_masks\n",
    "\n"
   ]
  },
  {
   "cell_type": "code",
   "execution_count": 36,
   "metadata": {},
   "outputs": [
    {
     "name": "stdout",
     "output_type": "stream",
     "text": [
      "39\n"
     ]
    }
   ],
   "source": [
    "original_feature_no = X_train.shape[1]\n",
    "accuracy_scores, feature_masks = rnd_vs_features(X, y[label], original_feature_no )"
   ]
  },
  {
   "cell_type": "code",
   "execution_count": 39,
   "metadata": {},
   "outputs": [
    {
     "data": {
      "image/png": "[encoded data removed]",
      "text/plain": [
       "<matplotlib.figure.Figure at 0x7fc8c2687cf8>"
      ]
     },
     "metadata": {},
     "output_type": "display_data"
    }
   ],
   "source": [
    "feature_no = np.arange(1, original_feature_no + 1)\n",
    "len(accuracy_scores), len(feature_no)\n",
    "\n",
    "plt.plot(feature_no, accuracy_scores,'-*')\n",
    "plt.gca().set_title('Accuracy vs. No. of features')\n",
    "plt.gca().set_xlabel('No. of features')\n",
    "plt.gca().set_ylabel('Accuracy score')\n",
    "plt.gca().spines['right'].set_visible(False)\n",
    "plt.gca().spines['top'].set_visible(False)"
   ]
  },
  {
   "cell_type": "markdown",
   "metadata": {},
   "source": [
    "#### Feature Importance: Selected Features"
   ]
  },
  {
   "cell_type": "code",
   "execution_count": 64,
   "metadata": {},
   "outputs": [
    {
     "data": {
      "text/plain": [
       "Index(['Score', 'Time', 'WordsCount', 'Total_Reviews_by_Reviewer',\n",
       "       'ProductFrequency', 'WordCount', 'WordCountSummary', 'StopWords',\n",
       "       'UpperCount', 'LowerCount', 'LowerCountSummary', 'DotCount',\n",
       "       'CountPunctuation', 'CountDigits', 'Lexical', 'UpperLowerR',\n",
       "       'UpperLowerSumR', 'DotCapitalR', 'DotCapitalSumR', 'CapitalsRatio',\n",
       "       'neg', 'neu', 'pos', 'compound', 'ProductFreqlog',\n",
       "       'ReviewsbyReviewerlog', 'WordCountlog', 'Month', 'Day'],\n",
       "      dtype='object')"
      ]
     },
     "execution_count": 64,
     "metadata": {},
     "output_type": "execute_result"
    }
   ],
   "source": [
    "# The number of feature which result with the maximum validation accuracy:\n",
    "ind_max = accuracy_scores.index(max(accuracy_scores))\n",
    "selected_feature_max = feature_masks[ind_max] # the relevant feature mask\n",
    "\n",
    "# X_ = X.loc[:,selected_feature_max]\n",
    "X_.columns"
   ]
  },
  {
   "cell_type": "code",
   "execution_count": 61,
   "metadata": {},
   "outputs": [
    {
     "data": {
      "text/plain": [
       "28"
      ]
     },
     "execution_count": 61,
     "metadata": {},
     "output_type": "execute_result"
    }
   ],
   "source": [
    "ind_max"
   ]
  },
  {
   "cell_type": "code",
   "execution_count": 60,
   "metadata": {
    "collapsed": true
   },
   "outputs": [],
   "source": [
    "with open('data/feature_selection_accuracy.pkl', 'wb') as f:\n",
    "    pickle.dump(accuracy_scores, f)\n",
    "    \n",
    "with open('data/feature_selection_masks.pkl', 'wb') as f:\n",
    "    pickle.dump(feature_masks, f)"
   ]
  },
  {
   "cell_type": "code",
   "execution_count": 53,
   "metadata": {
    "collapsed": true
   },
   "outputs": [],
   "source": [
    "features = ['HelpfullnessRank', 'Score', 'Time', 'WordsCount', 'Total_Reviews_by_Reviewer',\n",
    "        'ProductFrequency', 'WordCount', 'WordCountSummary', 'StopWords',\n",
    "        'UpperCount', 'LowerCount', 'LowerCountSummary', 'DotCount',\n",
    "        'CountPunctuation', 'CountDigits', 'Lexical', 'UpperLowerR',\n",
    "        'UpperLowerSumR', 'DotCapitalR', 'DotCapitalSumR', 'CapitalsRatio',\n",
    "        'neg', 'neu', 'pos', 'compound', 'ProductFreqlog',\n",
    "        'ReviewsbyReviewerlog', 'WordCountlog', 'Month', 'Day']\n",
    "\n",
    "reviews_features = select_fetures(reviews, features)"
   ]
  },
  {
   "cell_type": "code",
   "execution_count": 54,
   "metadata": {},
   "outputs": [
    {
     "data": {
      "text/plain": [
       "((53481, 29), (17827, 29), (17827, 29))"
      ]
     },
     "execution_count": 54,
     "metadata": {},
     "output_type": "execute_result"
    }
   ],
   "source": [
    "label = 'HelpfullnessRank'\n",
    "X = reviews_features.drop(label, axis=1)\n",
    "y = reviews_features[label]\n",
    "\n",
    "# Split to train, test and validation datasets:\n",
    "X_train, X_test, y_train, y_test = train_test_split(X, y, test_size=0.4)\n",
    "X_test, X_val, y_test, y_val = train_test_split(X_test, y_test, test_size=0.5)\n",
    "\n",
    "X_train.shape, X_test.shape, X_val.shape"
   ]
  },
  {
   "cell_type": "code",
   "execution_count": 57,
   "metadata": {},
   "outputs": [
    {
     "name": "stdout",
     "output_type": "stream",
     "text": [
      "Validation accuracy score:  0.6154148202165255\n",
      "Train accuracy score:  0.9926889923524242\n"
     ]
    }
   ],
   "source": [
    "clf = RandomForestClassifier()\n",
    "clf.fit(X_train, y_train)\n",
    "rnd_val_pred = clf.predict(X_val)\n",
    "rnd_train_pred = clf.predict(X_train)\n",
    "print(\"Validation accuracy score: \", accuracy_score(rnd_val_pred, y_val))\n",
    "print(\"Train accuracy score: \", accuracy_score(rnd_train_pred, y_train))"
   ]
  },
  {
   "cell_type": "code",
   "execution_count": 58,
   "metadata": {
    "collapsed": true
   },
   "outputs": [],
   "source": [
    "feature_importance_partial = list(zip(X_train.columns, clf.feature_importances_))\n",
    "\n",
    "with open('data/feature_importance_partial.pkl', 'wb') as f:\n",
    "    pickle.dump(feature_importance_partial, f)"
   ]
  },
  {
   "cell_type": "code",
   "execution_count": null,
   "metadata": {
    "collapsed": true
   },
   "outputs": [],
   "source": []
  }
 ],
 "metadata": {
  "kernelspec": {
   "display_name": "Python 3",
   "language": "python",
   "name": "python3"
  },
  "language_info": {
   "codemirror_mode": {
    "name": "ipython",
    "version": 3
   },
   "file_extension": ".py",
   "mimetype": "text/x-python",
   "name": "python",
   "nbconvert_exporter": "python",
   "pygments_lexer": "ipython3",
   "version": "3.6.2"
  }
 },
 "nbformat": 4,
 "nbformat_minor": 2
}
