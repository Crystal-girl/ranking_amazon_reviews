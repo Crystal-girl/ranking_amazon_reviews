{
 "cells": [
  {
   "cell_type": "markdown",
   "metadata": {},
   "source": [
    "#### Load Data\n"
   ]
  },
  {
   "cell_type": "code",
   "execution_count": 9,
   "metadata": {
    "collapsed": true
   },
   "outputs": [],
   "source": [
    "\n",
    "import pickle\n",
    "import numpy as np\n",
    "import pandas as pd\n",
    "\n",
    "from sklearn.feature_extraction.stop_words import ENGLISH_STOP_WORDS as stopwords \n",
    "from sklearn.feature_extraction.text import CountVectorizer \n",
    "from sklearn.ensemble import RandomForestClassifier\n",
    "\n",
    "from sklearn.metrics import accuracy_score \n",
    "from sklearn.base import TransformerMixin \n",
    "from sklearn.pipeline import Pipeline\n",
    "from sklearn.svm import LinearSVC\n",
    "\n",
    "import string"
   ]
  },
  {
   "cell_type": "code",
   "execution_count": 4,
   "metadata": {},
   "outputs": [
    {
     "data": {
      "text/plain": [
       "((53480, 50), (18183, 50), (17471, 50))"
      ]
     },
     "execution_count": 4,
     "metadata": {},
     "output_type": "execute_result"
    }
   ],
   "source": [
    "df_cols = np.load('data/df_cols.npy')\n",
    "\n",
    "X_test = pd.DataFrame(np.load('data/X_test.npy'), columns=df_cols)\n",
    "X_train = pd.DataFrame(np.load('data/X_train.npy'), columns=df_cols)\n",
    "X_val = pd.DataFrame(np.load('data/X_val.npy'), columns=df_cols)\n",
    "\n",
    "y_test = np.load('data/y_test.npy')\n",
    "y_train = np.load('data/y_train.npy')\n",
    "y_val = np.load('data/y_val.npy')\n",
    "\n",
    "\n",
    "X_train.shape, X_test.shape, X_val.shape"
   ]
  },
  {
   "cell_type": "markdown",
   "metadata": {},
   "source": [
    "##### Random Forest Classifier - Tfidf"
   ]
  },
  {
   "cell_type": "code",
   "execution_count": 18,
   "metadata": {},
   "outputs": [
    {
     "name": "stdout",
     "output_type": "stream",
     "text": [
      "Validation accuracy score:  0.6212008471180814\n",
      "Training accuracy score:  0.9902393418100225\n"
     ]
    }
   ],
   "source": [
    "from sklearn.feature_extraction.text import TfidfVectorizer \n",
    "\n",
    "#create vectorizer object to generate feature vectors, we will use custom spacy’s tokenizer\n",
    "vectorizer = TfidfVectorizer(min_df= 5, ngram_range=(1,1))\n",
    "classifier = RandomForestClassifier()\n",
    "\n",
    "# Create the  pipeline to clean, tokenize, vectorize, and classify \n",
    "pipe = Pipeline([('vectorizer', vectorizer),\n",
    "                 ('classifier', classifier)])\n",
    "\n",
    "\n",
    "# Load sample data\n",
    "train = list(zip(X_train['Text_clean'], y_train))\n",
    "val = list(zip(X_val['Text_clean'], y_val))\n",
    "test = list(zip(X_test['Text_clean'], y_test))\n",
    "\n",
    "# Create model and measure accuracy\n",
    "pipe.fit([x[0] for x in train], [x[1] for x in train]) \n",
    "pred_data_val = pipe.predict([x[0] for x in val]) \n",
    "pred_data_train = pipe.predict([x[0] for x in train]) \n",
    "\n",
    "print(\"Validation accuracy score: \", accuracy_score(y_val, pred_data_val))\n",
    "print(\"Training accuracy score: \", accuracy_score(y_train, pred_data_train))"
   ]
  },
  {
   "cell_type": "code",
   "execution_count": 19,
   "metadata": {
    "collapsed": true
   },
   "outputs": [],
   "source": [
    "# Save proba:\n",
    "rfc_tfidf_train_proba = pipe.predict_proba([x[0] for x in train])\n",
    "rfc_tfidf_val_proba = pipe.predict_proba([x[0] for x in val])\n",
    "rfc_tfidf_test_proba = pipe.predict_proba([x[0] for x in test])\n",
    "\n",
    "with open('data/rfc_tfidf_train_proba.pkl', 'wb') as f:\n",
    "    pickle.dump(rfc_tfidf_train_proba, f)\n",
    "    \n",
    "with open('data/rfc_tfidf_val_proba.pkl', 'wb') as f:\n",
    "    pickle.dump(rfc_tfidf_val_proba, f)\n",
    "    \n",
    "with open('data/rfc_tfidf_test_proba.pkl', 'wb') as f:\n",
    "    pickle.dump(rfc_tfidf_test_proba, f)"
   ]
  },
  {
   "cell_type": "markdown",
   "metadata": {},
   "source": [
    "##### Random Forest Classifier - BOW"
   ]
  },
  {
   "cell_type": "code",
   "execution_count": 21,
   "metadata": {},
   "outputs": [
    {
     "name": "stdout",
     "output_type": "stream",
     "text": [
      "Validation accuracy score:  0.6140461335928109\n",
      "Training accuracy score:  0.9901832460732984\n"
     ]
    }
   ],
   "source": [
    "#create vectorizer object to generate feature vectors, we will use custom spacy’s tokenizer\n",
    "vectorizer = CountVectorizer(min_df= 5, ngram_range=(1,1))\n",
    "classifier = RandomForestClassifier()\n",
    "\n",
    "# Create the  pipeline to clean, tokenize, vectorize, and classify \n",
    "pipe = Pipeline([('vectorizer', vectorizer),\n",
    "                 ('classifier', classifier)])\n",
    "\n",
    "\n",
    "# Load sample data\n",
    "train = list(zip(X_train['Text_clean'], y_train))\n",
    "val = list(zip(X_val['Text_clean'], y_val))\n",
    "test = list(zip(X_test['Text_clean'], y_test))\n",
    "\n",
    "# Create model and measure accuracy\n",
    "pipe.fit([x[0] for x in train], [x[1] for x in train]) \n",
    "pred_data_val = pipe.predict([x[0] for x in val]) \n",
    "pred_data_train = pipe.predict([x[0] for x in train]) \n",
    "\n",
    "print(\"Validation accuracy score: \", accuracy_score(y_val, pred_data_val))\n",
    "print(\"Training accuracy score: \", accuracy_score(y_train, pred_data_train))"
   ]
  },
  {
   "cell_type": "code",
   "execution_count": 22,
   "metadata": {
    "collapsed": true
   },
   "outputs": [],
   "source": [
    "# Save proba:\n",
    "rfc_bow_train_proba = pipe.predict_proba([x[0] for x in train])\n",
    "rfc_bow_val_proba = pipe.predict_proba([x[0] for x in val])\n",
    "rfc_bow_test_proba = pipe.predict_proba([x[0] for x in test])\n",
    "\n",
    "with open('data/rfc_bow_train_proba.pkl', 'wb') as f:\n",
    "    pickle.dump(rfc_bow_train_proba, f)\n",
    "    \n",
    "with open('data/rfc_bow_val_proba.pkl', 'wb') as f:\n",
    "    pickle.dump(rfc_bow_val_proba, f)\n",
    "    \n",
    "with open('data/rfc_bow_test_proba.pkl', 'wb') as f:\n",
    "    pickle.dump(rfc_bow_test_proba, f)"
   ]
  },
  {
   "cell_type": "markdown",
   "metadata": {},
   "source": [
    "##### SVM Classifier"
   ]
  },
  {
   "cell_type": "code",
   "execution_count": null,
   "metadata": {
    "collapsed": true
   },
   "outputs": [],
   "source": [
    "countvect =  TfidfVectorizer(stop_words='english') \n",
    "text_features =countvect.fit(X_train['Text']) # bag of words\n",
    "\n",
    "text_feature_vec_train = text_features.transform(X_train['Text'])\n",
    "text_feature_vec_test = text_features.transform(X_test['Text'])\n",
    "text_feature_vec_val = text_features.transform(X_val['Text'])\n",
    "\n",
    "clf = SVC(probability=True, gamma=0.33, C=10)\n",
    "\n",
    "clf.fit(text_feature_vec_train, y_train)\n",
    "rnd_val_pred = clf.predict(text_feature_vec_val)\n",
    "rnd_train_pred = clf.predict(text_feature_vec_train)\n",
    "print(\"Validation accuracy score: \", accuracy_score(rnd_val_pred, y_val))\n",
    "print(\"Train accuracy score: \", accuracy_score(rnd_train_pred, y_train))"
   ]
  },
  {
   "cell_type": "code",
   "execution_count": 20,
   "metadata": {
    "collapsed": true
   },
   "outputs": [
    {
     "ename": "AttributeError",
     "evalue": "predict_proba is not available when  probability=False",
     "output_type": "error",
     "traceback": [
      "\u001b[0;31m---------------------------------------------------------------------------\u001b[0m",
      "\u001b[0;31mAttributeError\u001b[0m                            Traceback (most recent call last)",
      "\u001b[0;32m<ipython-input-20-030b0bc58b7e>\u001b[0m in \u001b[0;36m<module>\u001b[0;34m()\u001b[0m\n\u001b[1;32m      1\u001b[0m \u001b[0;31m# Save proba:\u001b[0m\u001b[0;34m\u001b[0m\u001b[0;34m\u001b[0m\u001b[0m\n\u001b[0;32m----> 2\u001b[0;31m \u001b[0msvm_tfidf_train_proba\u001b[0m \u001b[0;34m=\u001b[0m \u001b[0mclf\u001b[0m\u001b[0;34m.\u001b[0m\u001b[0mpredict_proba\u001b[0m\u001b[0;34m(\u001b[0m\u001b[0mX_train\u001b[0m\u001b[0;34m)\u001b[0m\u001b[0;34m\u001b[0m\u001b[0m\n\u001b[0m\u001b[1;32m      3\u001b[0m \u001b[0msvm_tfidf_val_proba\u001b[0m \u001b[0;34m=\u001b[0m \u001b[0mclf\u001b[0m\u001b[0;34m.\u001b[0m\u001b[0mpredict_proba\u001b[0m\u001b[0;34m(\u001b[0m\u001b[0mX_val\u001b[0m\u001b[0;34m)\u001b[0m\u001b[0;34m\u001b[0m\u001b[0m\n\u001b[1;32m      4\u001b[0m \u001b[0msvm_tfidf_test_proba\u001b[0m \u001b[0;34m=\u001b[0m \u001b[0mclf\u001b[0m\u001b[0;34m.\u001b[0m\u001b[0mpredict_proba\u001b[0m\u001b[0;34m(\u001b[0m\u001b[0mX_test\u001b[0m\u001b[0;34m)\u001b[0m\u001b[0;34m\u001b[0m\u001b[0m\n\u001b[1;32m      5\u001b[0m \u001b[0;34m\u001b[0m\u001b[0m\n",
      "\u001b[0;32m~/anaconda3/envs/spacy/lib/python3.6/site-packages/sklearn/svm/base.py\u001b[0m in \u001b[0;36mpredict_proba\u001b[0;34m(self)\u001b[0m\n\u001b[1;32m    588\u001b[0m         \u001b[0mdatasets\u001b[0m\u001b[0;34m.\u001b[0m\u001b[0;34m\u001b[0m\u001b[0m\n\u001b[1;32m    589\u001b[0m         \"\"\"\n\u001b[0;32m--> 590\u001b[0;31m         \u001b[0mself\u001b[0m\u001b[0;34m.\u001b[0m\u001b[0m_check_proba\u001b[0m\u001b[0;34m(\u001b[0m\u001b[0;34m)\u001b[0m\u001b[0;34m\u001b[0m\u001b[0m\n\u001b[0m\u001b[1;32m    591\u001b[0m         \u001b[0;32mreturn\u001b[0m \u001b[0mself\u001b[0m\u001b[0;34m.\u001b[0m\u001b[0m_predict_proba\u001b[0m\u001b[0;34m\u001b[0m\u001b[0m\n\u001b[1;32m    592\u001b[0m \u001b[0;34m\u001b[0m\u001b[0m\n",
      "\u001b[0;32m~/anaconda3/envs/spacy/lib/python3.6/site-packages/sklearn/svm/base.py\u001b[0m in \u001b[0;36m_check_proba\u001b[0;34m(self)\u001b[0m\n\u001b[1;32m    555\u001b[0m     \u001b[0;32mdef\u001b[0m \u001b[0m_check_proba\u001b[0m\u001b[0;34m(\u001b[0m\u001b[0mself\u001b[0m\u001b[0;34m)\u001b[0m\u001b[0;34m:\u001b[0m\u001b[0;34m\u001b[0m\u001b[0m\n\u001b[1;32m    556\u001b[0m         \u001b[0;32mif\u001b[0m \u001b[0;32mnot\u001b[0m \u001b[0mself\u001b[0m\u001b[0;34m.\u001b[0m\u001b[0mprobability\u001b[0m\u001b[0;34m:\u001b[0m\u001b[0;34m\u001b[0m\u001b[0m\n\u001b[0;32m--> 557\u001b[0;31m             raise AttributeError(\"predict_proba is not available when \"\n\u001b[0m\u001b[1;32m    558\u001b[0m                                  \" probability=False\")\n\u001b[1;32m    559\u001b[0m         \u001b[0;32mif\u001b[0m \u001b[0mself\u001b[0m\u001b[0;34m.\u001b[0m\u001b[0m_impl\u001b[0m \u001b[0;32mnot\u001b[0m \u001b[0;32min\u001b[0m \u001b[0;34m(\u001b[0m\u001b[0;34m'c_svc'\u001b[0m\u001b[0;34m,\u001b[0m \u001b[0;34m'nu_svc'\u001b[0m\u001b[0;34m)\u001b[0m\u001b[0;34m:\u001b[0m\u001b[0;34m\u001b[0m\u001b[0m\n",
      "\u001b[0;31mAttributeError\u001b[0m: predict_proba is not available when  probability=False"
     ]
    }
   ],
   "source": [
    "# Save proba:\n",
    "svm_tfidf_train_proba = clf.predict_proba(X_train)\n",
    "svm_tfidf_val_proba = clf.predict_proba(X_val)\n",
    "svm_tfidf_test_proba = clf.predict_proba(X_test)\n",
    "\n",
    "with open('data/svm_tfidf_train_proba.pkl', 'wb') as f:\n",
    "    pickle.dump(svm_tfidf_train_proba, f)\n",
    "    \n",
    "with open('data/svm_tfidf_val_proba.pkl', 'wb') as f:\n",
    "    pickle.dump(svm_tfidf_val_proba, f)\n",
    "    \n",
    "with open('data/svm_tfidf_test_proba.pkl', 'wb') as f:\n",
    "    pickle.dump(svm_tfidf_test_proba, f)"
   ]
  },
  {
   "cell_type": "code",
   "execution_count": null,
   "metadata": {
    "collapsed": true
   },
   "outputs": [],
   "source": [
    "#create vectorizer object to generate feature vectors, we will use custom spacy’s tokenizer\n",
    "vectorizer = CountVectorizer(min_df= 5, tokenizer = spacy_tokenizer, ngram_range=(1,1))\n",
    "classifier = SVC(probability=True, gamma=0.33, C=10)\n",
    "\n",
    "# Create the  pipeline to clean, tokenize, vectorize, and classify \n",
    "pipe = Pipeline([(\"cleaner\", predictors()),\n",
    "                 ('vectorizer', vectorizer),\n",
    "                 ('classifier', classifier)])\n",
    "\n",
    "\n",
    "# Load sample data\n",
    "train = list(zip(X_train['Text_clean'], y_train))\n",
    "val = list(zip(X_val['Text_clean'], y_val))\n",
    "\n",
    "# Create model and measure accuracy\n",
    "pipe.fit([x[0] for x in train], [x[1] for x in train]) \n",
    "pred_data_val = pipe.predict([x[0] for x in val]) \n",
    "pred_data_train = pipe.predict([x[0] for x in train]) \n",
    "\n",
    "print(\"Validation accuracy score: \", accuracy_score(y_val, pred_data_val))\n",
    "print(\"Training accuracy score: \", accuracy_score(y_train, pred_data_train))"
   ]
  },
  {
   "cell_type": "markdown",
   "metadata": {},
   "source": [
    "##### XGBOOST - Tfidf"
   ]
  },
  {
   "cell_type": "code",
   "execution_count": null,
   "metadata": {
    "collapsed": true
   },
   "outputs": [],
   "source": [
    "from sklearn.feature_extraction.text import TfidfVectorizer \n",
    "from xgboost import XGBClassifier\n",
    "\n",
    "#create vectorizer object to generate feature vectors, we will use custom spacy’s tokenizer\n",
    "vectorizer = TfidfVectorizer(min_df= 5, ngram_range=(1,1))\n",
    "classifier = XGBClassifier(learning_rate=1, max_depth=40)\n",
    "\n",
    "# Create the  pipeline to clean, tokenize, vectorize, and classify \n",
    "pipe = Pipeline([('vectorizer', vectorizer),\n",
    "                 ('classifier', classifier)])\n",
    "\n",
    "\n",
    "# Load sample data\n",
    "train = list(zip(X_train['Text_clean'], y_train))\n",
    "val = list(zip(X_val['Text_clean'], y_val))\n",
    "\n",
    "# Create model and measure accuracy\n",
    "pipe.fit([x[0] for x in train], [x[1] for x in train]) \n",
    "pred_data_val = pipe.predict([x[0] for x in val]) \n",
    "pred_data_train = pipe.predict([x[0] for x in train]) \n",
    "\n",
    "print(\"Validation accuracy score: \", accuracy_score(y_val, pred_data_val))\n",
    "print(\"Training accuracy score: \", accuracy_score(y_train, pred_data_train))"
   ]
  },
  {
   "cell_type": "markdown",
   "metadata": {},
   "source": [
    "##### XGBOOST - bow - TBD"
   ]
  },
  {
   "cell_type": "code",
   "execution_count": null,
   "metadata": {
    "collapsed": true
   },
   "outputs": [],
   "source": [
    "#create vectorizer object to generate feature vectors, we will use custom spacy’s tokenizer\n",
    "vectorizer = CountVectorizer(min_df= 5,  ngram_range=(1,1))\n",
    "classifier = XGBClassifier(learning_rate=1, max_depth=40)\n",
    "\n",
    "# Create the  pipeline to clean, tokenize, vectorize, and classify \n",
    "pipe = Pipeline([\n",
    "                 ('vectorizer', vectorizer),\n",
    "                 ('classifier', classifier)])\n",
    "\n",
    "\n",
    "# Load sample data\n",
    "train = list(zip(X_train['Text_clean'], y_train))\n",
    "val = list(zip(X_val['Text_clean'], y_val))\n",
    "\n",
    "# Create model and measure accuracy\n",
    "pipe.fit([x[0] for x in train], [x[1] for x in train]) \n",
    "pred_data_val = pipe.predict([x[0] for x in val]) \n",
    "pred_data_train = pipe.predict([x[0] for x in train]) \n",
    "\n",
    "print(\"Validation accuracy score: \", accuracy_score(y_val, pred_data_val))\n",
    "print(\"Training accuracy score: \", accuracy_score(y_train, pred_data_train))"
   ]
  },
  {
   "cell_type": "code",
   "execution_count": null,
   "metadata": {
    "collapsed": true
   },
   "outputs": [],
   "source": []
  }
 ],
 "metadata": {
  "kernelspec": {
   "display_name": "Python 3",
   "language": "python",
   "name": "python3"
  },
  "language_info": {
   "codemirror_mode": {
    "name": "ipython",
    "version": 3
   },
   "file_extension": ".py",
   "mimetype": "text/x-python",
   "name": "python",
   "nbconvert_exporter": "python",
   "pygments_lexer": "ipython3",
   "version": "3.6.2"
  }
 },
 "nbformat": 4,
 "nbformat_minor": 2
}
