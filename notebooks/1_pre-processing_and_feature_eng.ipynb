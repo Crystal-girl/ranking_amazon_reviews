{
 "cells": [
  {
   "cell_type": "code",
   "execution_count": 1,
   "metadata": {},
   "outputs": [
    {
     "name": "stderr",
     "output_type": "stream",
     "text": [
      "/home/tal/anaconda3/envs/spacy/lib/python3.6/site-packages/nltk/twitter/__init__.py:20: UserWarning: The twython library has not been installed. Some functionality from the twitter package will not be available.\n",
      "  warnings.warn(\"The twython library has not been installed. \"\n"
     ]
    }
   ],
   "source": [
    "\n",
    "import nltk\n",
    "import string\n",
    "import pickle\n",
    "import numpy as np\n",
    "import pandas as pd\n",
    "import matplotlib.pyplot as plt\n",
    "\n",
    "from sklearn import preprocessing\n",
    "from sklearn.metrics import accuracy_score\n",
    "from sklearn.ensemble import RandomForestClassifier\n",
    "from sklearn.model_selection import train_test_split\n",
    "from sklearn.feature_extraction.text import CountVectorizer\n",
    "\n",
    "from nltk.corpus import stopwords\n",
    "from nltk.tokenize import word_tokenize\n",
    "from nltk.corpus import state_union\n",
    "from nltk.tokenize import PunktSentenceTokenizer\n",
    "from nltk.tokenize import RegexpTokenizer\n",
    "from nltk.sentiment.vader import SentimentIntensityAnalyzer\n",
    "\n",
    "from collections import Counter\n",
    "\n",
    "\n",
    "%matplotlib inline"
   ]
  },
  {
   "cell_type": "markdown",
   "metadata": {},
   "source": [
    "### Clean up & Featurtes Generation"
   ]
  },
  {
   "cell_type": "code",
   "execution_count": 3,
   "metadata": {
    "scrolled": true
   },
   "outputs": [
    {
     "name": "stdout",
     "output_type": "stream",
     "text": [
      "Duplicated Raws:  281\n",
      "Deleting Duplicates ---> Updated size:  (568173, 10)\n",
      "Adding Words Count Feature\n",
      "Calculating the Helpfulness Rank\n",
      "Select 1: 269850, Select 2: 0\n",
      "Deleting NaN Values\n",
      "Downsampling max score records ---> (159547, 12)\n",
      "Adding the reviewer's popularity (number of reviews written)\n",
      "Adding the frequency of product\n",
      "Clear products with less than 10 reviews\n",
      "Final shape of dataset:  (89135, 14)\n",
      "Adding the helpfullness score variace product vise\n"
     ]
    }
   ],
   "source": [
    "# Load data\n",
    "reviews = pd.read_csv('data/Reviews.csv')\n",
    "\n",
    "check_columns = reviews.columns[1:] # Remove index column from the subset\n",
    "print(\"Duplicated Raws: \", reviews.duplicated(check_columns).sum())\n",
    "\n",
    "# Delete duplicates:\n",
    "reviews = reviews.drop_duplicates(check_columns, keep='first')\n",
    "print(\"Deleting Duplicates ---> Updated size: \", reviews.shape)\n",
    "\n",
    "\n",
    "# Add Words count feature:\n",
    "print(\"Adding Words Count Feature\")\n",
    "reviews['WordsCount'] = reviews['Text'].str.count(' ') + 1\n",
    "\n",
    "# Calculate the relative Helpfullness according to the ratings of the reviews:\n",
    "print(\"Calculating the Helpfulness Rank\")\n",
    "reviews['HelpfullnessRank'] = round(reviews.HelpfulnessNumerator / reviews.HelpfulnessDenominator, 1) * 10\n",
    "\n",
    "\n",
    "# Check the Origin of the NaN values:\n",
    "select_1 = ((reviews.HelpfulnessNumerator == 0) & (reviews.HelpfulnessDenominator == 0))\n",
    "select_2 = ((reviews.HelpfulnessNumerator != 0) & (reviews.HelpfulnessDenominator == 0))\n",
    "print(\"Select 1: {}, Select 2: {}\".format(select_1.sum(), select_2.sum()))\n",
    "\n",
    "# Drop the Nan values - No indication for the helpfullness:\n",
    "print(\"Deleting NaN Values\")\n",
    "reviews = reviews.dropna() \n",
    "\n",
    "# Down sample (x 1/4 randomly) the records with max helpfulness score to reduce the unbalanced distribution:\n",
    "temp_max_score = reviews[reviews['HelpfullnessRank'] == 10]\n",
    "temp_not_max = reviews[reviews['HelpfullnessRank'] != 10]\n",
    "max_random_samples = temp_max_score.sample(frac=0.25) # sample randomly\n",
    "\n",
    "reviews = pd.concat([temp_not_max, max_random_samples])\n",
    "print(\"Downsampling max score records ---> {}\".format(reviews.shape))\n",
    "\n",
    "print(\"Adding the reviewer's popularity (number of reviews written)\")\n",
    "users_rating = pd.read_csv('data/users_rating') # A query which consist of the user popularity information\n",
    "users_popularity = users_rating[['UserId', 'Total_Reviews']]\n",
    "reviews = reviews.merge(users_popularity)\n",
    "reviews = reviews.rename(columns={'Total_Reviews': 'Total_Reviews_by_Reviewer'})\n",
    "\n",
    "# Get product frequency among the reviews:\n",
    "print(\"Adding the frequency of product\")\n",
    "product_occurace = pd.DataFrame(reviews.ProductId.value_counts()).reset_index()\n",
    "product_occurace = product_occurace.rename( columns={\"index\": \"ProductId\", \"ProductId\": \"freq\"})\n",
    "reviews = reviews.merge(product_occurace)\n",
    "reviews = reviews.rename(columns={'freq': 'ProductFrequency'})\n",
    "\n",
    "\n",
    "print(\"Clear products with less than 10 reviews\")\n",
    "reviews = reviews[reviews.ProductFrequency >=10] # take only products with at least 10 reviews\n",
    "print(\"Final shape of dataset: \", reviews.shape)\n",
    "\n",
    "# Add the variance of Helpfullness score:\n",
    "print(\"Adding the helpfullness score variace product vise\")\n",
    "helpfulness_var = reviews.groupby('ProductId').agg('var')['HelpfullnessRank']\n",
    "helpfulness_score_var = pd.DataFrame({'ProductId': np.array(helpfulness_var.index), 'HelpfullnessVar': helpfulness_var.values})\n",
    "reviews = reviews.merge(helpfulness_score_var)\n"
   ]
  },
  {
   "cell_type": "markdown",
   "metadata": {},
   "source": [
    "#### Clean Text"
   ]
  },
  {
   "cell_type": "code",
   "execution_count": 5,
   "metadata": {
    "collapsed": true
   },
   "outputs": [],
   "source": [
    "with open('data/appo_dict.pkl', 'rb') as f:\n",
    "    APPO = pickle.load(f)\n",
    "    \n",
    "    \n",
    "from spacy.en import English\n",
    "import spacy\n",
    "import regex as re\n",
    "nlp = spacy.load(\"en\")\n",
    "parser = English()\n",
    "parser.vocab[\"not\"].is_stop = False\n",
    "parser.vocab[\"cannot\"].is_stop = False\n",
    "\n",
    "\n",
    "from nltk.tokenize import TweetTokenizer\n",
    "from IPython.display import clear_output\n",
    "\n",
    "\n",
    "C = 0\n",
    "def clean(comment):\n",
    "    \"\"\"\n",
    "    This function receives comments and returns clean word-list\n",
    "    \"\"\"\n",
    "    global C\n",
    "    C+=1\n",
    "    if C % 100 == 0:\n",
    "        print(C)\n",
    "        clear_output(wait=True)\n",
    "    #Convert to lower case , so that Hi and hi are the same\n",
    "    comment=comment.lower()\n",
    "    #remove \\n\n",
    "    comment=re.sub(\"\\\\n\",\" \",comment)\n",
    "    # remove leaky elements like ip,user\n",
    "    #comment=re.sub(\"\\d{1,3}.\\d{1,3}.\\d{1,3}.\\d{1,3}\",\"\",comment)\n",
    "    #removing usernames\n",
    "#     comment=re.sub(\"\\[\\[.*\\]\",\"\",comment)\n",
    "    #Split the sentences into words\n",
    "     \n",
    "    tokenizer=TweetTokenizer()\n",
    "    words=tokenizer.tokenize(comment)\n",
    "    # (')aphostophe  replacement (ie)   you're --> you are  \n",
    "    # ( basic dictionary lookup : master dictionary present in a hidden block of code)\n",
    "    #print([APPO[word] if word in APPO else word for word in words])\n",
    "    words = \" \".join([APPO[word] if word in APPO else word for word in words])\n",
    "    words = [token.lemma_  for token in parser(words) if (not token.is_stop and not token.is_space) ]\n",
    "    words = [word for word in words if word not in ['\"','s','.',';',',']]\n",
    "    #words=[lem.lemmatize(word, \"v\") for word in words]\n",
    "    #words = [w for w in words if not w in eng_stopwords]\n",
    "    \n",
    "    clean_sent = \" \".join(words)\n",
    "    return(clean_sent)"
   ]
  },
  {
   "cell_type": "code",
   "execution_count": 6,
   "metadata": {},
   "outputs": [
    {
     "name": "stdout",
     "output_type": "stream",
     "text": [
      "89100\n"
     ]
    }
   ],
   "source": [
    "reviews['Text_clean'] = reviews.Text.agg(clean)\n",
    "\n",
    "with open('data/reviews_post_processing.pkl', 'wb') as f:\n",
    "    pickle.dump(reviews ,f)"
   ]
  },
  {
   "cell_type": "code",
   "execution_count": 2,
   "metadata": {
    "collapsed": true
   },
   "outputs": [],
   "source": [
    "with open('data/reviews_post_processing.pkl', 'rb') as f:\n",
    "    reviews = pickle.load(f)"
   ]
  },
  {
   "cell_type": "markdown",
   "metadata": {},
   "source": [
    "#### Feature Eng."
   ]
  },
  {
   "cell_type": "code",
   "execution_count": 3,
   "metadata": {
    "collapsed": true
   },
   "outputs": [],
   "source": [
    "def count_uppercase(text):\n",
    "    return sum(1 for char in text if char.isupper())\n",
    "\n",
    "def count_lowercase(text):\n",
    "    return sum(1 for char in text if char.islower())\n",
    "\n",
    "def count_punctuation(text):\n",
    "    return sum([1 for char in text if char in string.punctuation])\n",
    "\n",
    "def count_dots(text):\n",
    "    return sum([1 for char in text if char == '.'])\n",
    "\n",
    "def count_exclamation_marks(text):\n",
    "    return sum([1 for char in text if char == '!'])\n",
    "\n",
    "def count_question_marks(text):\n",
    "    return sum([1 for char in text if char == '?'])\n",
    "\n",
    "def count_digits(text):\n",
    "    return sum([1 for char in text if char.isdigit()])\n",
    "\n",
    "def count_stop_words(text):\n",
    "    stop_words = set(stopwords.words('english'))\n",
    "    word_tokens = word_tokenize(text)\n",
    "    return sum([1 for w in word_tokens if  w in stop_words])\n",
    "\n",
    "def count_sentiment_words(text, threshold=0.5):\n",
    "    word_tokens = word_tokenize(text)\n",
    "    pos_word_list=[]\n",
    "    neu_word_list=[]\n",
    "    neg_word_list=[]\n",
    "    sentence_length = len(word_tokens)\n",
    "    sid = SentimentIntensityAnalyzer()\n",
    "\n",
    "\n",
    "    for word in word_tokens:\n",
    "        if (sid.polarity_scores(word)['compound']) >= threshold:\n",
    "            pos_word_list.append(word)\n",
    "        elif (sid.polarity_scores(word)['compound']) <= -threshold:\n",
    "            neg_word_list.append(word)\n",
    "        else:\n",
    "            neu_word_list.append(word)\n",
    "    return len(pos_word_list)/sentence_length, len(neg_word_list)/sentence_length, len(neu_word_list)/sentence_length\n",
    "\n",
    "def sentiment_analysis(text):\n",
    "    sid = SentimentIntensityAnalyzer()\n",
    "    ss = sid.polarity_scores(text)\n",
    "    return tuple(ss.values())\n",
    "\n",
    "\n",
    "def calculate_lexical_diversity(text):\n",
    "    word_tokens = word_tokenize(text)\n",
    "    return len(set(word_tokens))/ len(word_tokens)\n",
    "\n",
    "def most_common_pos(text):\n",
    "    pos = nltk.pos_tag(word_tokenize(text))\n",
    "    return Counter([x[1] for x in pos]).most_common(3)\n",
    "\n",
    "def count_words(text):\n",
    "    tokenizer = RegexpTokenizer(r'\\w+')\n",
    "    return len(tokenizer.tokenize(text))"
   ]
  },
  {
   "cell_type": "code",
   "execution_count": 4,
   "metadata": {},
   "outputs": [
    {
     "name": "stdout",
     "output_type": "stream",
     "text": [
      "Word count\n",
      "Stop words\n",
      "Uppercase\n",
      "Lowercase\n",
      "Dots\n",
      "Exclamation\n",
      "Question\n",
      "Punctuation\n",
      "Digits\n",
      "Lexical\n",
      "Upper/Lower\n",
      "Capital/dots\n",
      "CapitalRatio\n",
      "Get Reviews sentiment\n",
      "Get log Features\n",
      "Timestamps\n"
     ]
    }
   ],
   "source": [
    "eps = np.finfo(float).eps\n",
    "print('Word count')\n",
    "reviews['WordCount'] = reviews['Text'].agg(count_words)\n",
    "reviews['WordCountSummary'] = reviews['Summary'].agg(count_words)\n",
    "\n",
    "print('Stop words')\n",
    "reviews['StopWords'] = reviews['Text'].agg(count_stop_words)\n",
    "\n",
    "print('Uppercase')\n",
    "reviews['UpperCount'] = reviews['Text'].agg(count_uppercase)\n",
    "reviews['UpperCountSummary'] = reviews['Summary'].agg(count_uppercase)\n",
    "\n",
    "print('Lowercase')\n",
    "reviews['LowerCount'] = reviews['Text'].agg(count_lowercase)\n",
    "reviews['LowerCountSummary'] = reviews['Summary'].agg(count_lowercase)\n",
    "\n",
    "print('Dots')\n",
    "reviews['DotCount'] = reviews['Text'].agg(count_dots)\n",
    "reviews['DotCountSummary'] = reviews['Summary'].agg(count_dots)\n",
    "\n",
    "print('Exclamation')\n",
    "reviews['Exclamation'] = reviews['Text'].agg(count_exclamation_marks)\n",
    "reviews['ExclamationSummary'] = reviews['Summary'].agg(count_exclamation_marks)\n",
    "\n",
    "print('Question')\n",
    "reviews['Question'] = reviews['Text'].agg(count_question_marks)\n",
    "reviews['QuestionSummary'] = reviews['Summary'].agg(count_question_marks)\n",
    "\n",
    "print('Punctuation')\n",
    "reviews['CountPunctuation'] = reviews['Text'].agg(count_punctuation)\n",
    "reviews['CountPunctuationSummary'] = reviews['Summary'].agg(count_punctuation)\n",
    "\n",
    "print('Digits')\n",
    "reviews['CountDigits'] = reviews['Text'].agg(count_digits)\n",
    "reviews['CountDigitsSummary'] = reviews['Summary'].agg(count_digits)\n",
    "\n",
    "print('Lexical')\n",
    "reviews['Lexical'] = reviews['Text'].agg(calculate_lexical_diversity)\n",
    "reviews['LexicalSummary'] = reviews['Summary'].agg(calculate_lexical_diversity)\n",
    "\n",
    "print('Upper/Lower')\n",
    "reviews['UpperLowerR'] = reviews['UpperCount'] / (reviews['LowerCount'] + eps)\n",
    "reviews['UpperLowerSumR'] = reviews['UpperCountSummary'] / (reviews['LowerCountSummary'] + eps)\n",
    "\n",
    "print('Capital/dots')\n",
    "reviews['DotCapitalR'] = reviews['UpperCount'] / (reviews['DotCount'] + eps)\n",
    "reviews['DotCapitalSumR'] = reviews['UpperCountSummary'] / (reviews['DotCountSummary'] + eps)\n",
    "\n",
    "print('CapitalRatio')\n",
    "reviews['CapitalsRatio'] = reviews['UpperCount'] / (reviews['UpperCountSummary'] + eps)\n",
    "\n",
    "print('Get Reviews sentiment')\n",
    "reviews[['neg', 'neu', 'pos', 'compound']] = reviews['Text'].agg(sentiment_analysis).apply(pd.Series)\n",
    "\n",
    "print('Get log Features')\n",
    "reviews['ProductFreqlog'] = np.log2(reviews['ProductFrequency'])\n",
    "reviews['ReviewsbyReviewerlog'] = np.log2(reviews['Total_Reviews_by_Reviewer'])\n",
    "reviews['WordCountlog'] = np.log2(reviews['WordCount'])\n",
    "\n",
    "print('Timestamps')\n",
    "reviews['TimeStamp'] = pd.to_datetime(reviews.Time, unit='s')\n",
    "reviews['Year'] = reviews.TimeStamp.dt.year\n",
    "reviews['Month'] = reviews.TimeStamp.dt.month\n",
    "reviews['Day'] = reviews.TimeStamp.dt.day"
   ]
  },
  {
   "cell_type": "code",
   "execution_count": 5,
   "metadata": {
    "collapsed": true
   },
   "outputs": [],
   "source": [
    "with open('data/reviews_post_feature_eng.pkl', 'wb') as f:\n",
    "    pickle.dump(reviews ,f)"
   ]
  },
  {
   "cell_type": "code",
   "execution_count": null,
   "metadata": {
    "collapsed": true
   },
   "outputs": [],
   "source": []
  }
 ],
 "metadata": {
  "kernelspec": {
   "display_name": "Python 3",
   "language": "python",
   "name": "python3"
  },
  "language_info": {
   "codemirror_mode": {
    "name": "ipython",
    "version": 3
   },
   "file_extension": ".py",
   "mimetype": "text/x-python",
   "name": "python",
   "nbconvert_exporter": "python",
   "pygments_lexer": "ipython3",
   "version": "3.6.2"
  }
 },
 "nbformat": 4,
 "nbformat_minor": 2
}
