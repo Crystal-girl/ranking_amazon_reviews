{
 "cells": [
  {
   "cell_type": "code",
   "execution_count": null,
   "metadata": {
    "collapsed": true
   },
   "outputs": [],
   "source": [
    "def rank_products_reviews(reviews, labels,  model, text_features, product_id):\n",
    "    \"\"\"\n",
    "    Rank the reviews of a Product by their helpfullness given a product id and a model\n",
    "\n",
    "    Args:\n",
    "        reviews(pd.DataFrame): product reviews data-set (validation)\n",
    "        labels(np.array): the labels of product's helpfullness\n",
    "        model: the model used for classifying the reviews\n",
    "        text_feature: the model which is used to extract features from the textual review\n",
    "        product_id(str): the product id\n",
    "\n",
    "    Returns:\n",
    "        pd.DataFrame: Ranked Reviews\n",
    "\n",
    "    \"\"\"\n",
    "    # Query all the reviews of product_id:\n",
    "    products_reviews = reviews[reviews.ProductId == product_id]\n",
    "    product_labels = labels[labels.ProductId == product_id]['HelpfullnessRank']\n",
    "\n",
    "    # Extract the textual features:\n",
    "    products_text_features = text_features.transform(products_reviews['Text'])\n",
    "\n",
    "    # Predict the helpfullness score of the reviews:\n",
    "    rnd_producy_pred = model.predict(products_text_features)\n",
    "\n",
    "    products_reviews['Review_Rank'] = pd.Series(rnd_producy_pred, index=products_reviews.index)\n",
    "    products_reviews['Original_Rank'] = pd.Series(product_labels, index=products_reviews.index)\n",
    "    products_reviews = products_reviews.sort_values(\n",
    "        by=['Review_Rank', 'Score', 'Total_Reviews_by_Reviewer', 'WordsCount'], ascending=False)\n",
    "    \n",
    "\n",
    "    ranked_reviews = products_reviews.drop(['Id', 'ProductId', 'UserId', 'Time', 'ProfileName',\n",
    "                                            'HelpfulnessNumerator', 'HelpfulnessDenominator', 'ProductFrequency'],\n",
    "                                           axis=1)\n",
    "\n",
    "    return ranked_reviews\n",
    "\n",
    "\n",
    "def print_reviews_by_ranking(df):\n",
    "    \"\"\"\n",
    "    \"\"\"\n",
    "    for i in range(len(df)):\n",
    "        print(\"my Rank: {}  Groud Trouth Rank: {}\".format(df['Review_Rank'].iloc[i], df['Original_Rank'].iloc[i]))\n",
    "        print(\"Text: \", df['Text'].iloc[i])\n",
    "        print(\"Summary:\", df['Summary'].iloc[i])\n",
    "        print(\"\\n\")\n",
    "\n",
    "\n",
    "def print_products_reviews(X_val, y_val,  clf, text_features, product_id):\n",
    "    \"\"\"\n",
    "    \"\"\"\n",
    "    a= rank_products_reviews(X_val, y_val,  clf, text_features, product_id)\n",
    "    print_reviews_by_ranking(a)"
   ]
  },
  {
   "cell_type": "code",
   "execution_count": null,
   "metadata": {
    "collapsed": true
   },
   "outputs": [],
   "source": [
    "product_ids = X_val.ProductId.values\n",
    "ranked_results = rank_products_reviews(X_val, y_val,  clf, text_features, product_ids[5])"
   ]
  }
 ],
 "metadata": {
  "kernelspec": {
   "display_name": "Python 3",
   "language": "python",
   "name": "python3"
  },
  "language_info": {
   "codemirror_mode": {
    "name": "ipython",
    "version": 3
   },
   "file_extension": ".py",
   "mimetype": "text/x-python",
   "name": "python",
   "nbconvert_exporter": "python",
   "pygments_lexer": "ipython3",
   "version": "3.6.2"
  }
 },
 "nbformat": 4,
 "nbformat_minor": 2
}
