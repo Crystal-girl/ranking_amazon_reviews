{
 "cells": [
  {
   "cell_type": "code",
   "execution_count": 38,
   "metadata": {
    "scrolled": true
   },
   "outputs": [
    {
     "name": "stdout",
     "output_type": "stream",
     "text": [
      "Feature eng:\n",
      "xgb = train: (53480, 11), val: (17471, 11), test: (18183, 11)\n",
      "svm = train: (53480, 11), val: (17471, 11), test: (18183, 11)\n",
      "rfc = train: (53480, 11), val: (17471, 11), test: (18183, 11)\n",
      "Bag of words:\n",
      "rfc = train: (53480, 11), val: (17471, 11), test: (18183, 11)\n",
      "xgb = train: (53480, 11), val: (17471, 11), test: (18183, 11)\n",
      "Tfidf:\n",
      "rfc = train: (53480, 11), val: (17471, 11), test: (18183, 11)\n",
      "xgb = train: (53480, 11), val: (17471, 11), test: (18183, 11)\n"
     ]
    }
   ],
   "source": [
    "# Load probas:\n",
    "import pickle\n",
    "import numpy as np\n",
    "from os import listdir\n",
    "from os.path import isfile, join\n",
    "\n",
    "from sklearn.metrics import accuracy_score\n",
    "from sklearn.ensemble import RandomForestClassifier\n",
    "from sklearn.model_selection import train_test_split\n",
    "\n",
    "path = 'data/proba/'\n",
    "\n",
    "# Feature eng:\n",
    "print(\"Feature eng:\")\n",
    "xgb_fe_val_proba = pickle.load(open(path + 'xgb_fe_val_proba.pkl', 'rb'))    # dimmention verified\n",
    "xgb_fe_train_proba = pickle.load(open(path + 'xgb_fe_train_proba.pkl', 'rb')) # dimmention verified\n",
    "xgb_fe_test_proba = pickle.load(open(path + 'xgb_fe_test_proba.pkl', 'rb')) # dimmention verified\n",
    "print(\"xgb = train: {}, val: {}, test: {}\".format(xgb_fe_train_proba.shape, xgb_fe_val_proba.shape, xgb_fe_test_proba.shape))\n",
    "\n",
    "svm_fe_train_proba = pickle.load(open(path + 'svm_fe_train_proba.pkl', 'rb')) # dimmention verified\n",
    "svm_fe_val_proba =  pickle.load(open(path + 'svm_fe_val_proba.pkl', 'rb'))    # dimmention verified\n",
    "svm_fe_test_proba =  pickle.load(open(path +  'svm_fe_test_proba.pkl', 'rb')) # dimmention verified\n",
    "print(\"svm = train: {}, val: {}, test: {}\".format(svm_fe_train_proba.shape, svm_fe_val_proba.shape, svm_fe_test_proba.shape))\n",
    "\n",
    "\n",
    "rfc_fe_val_proba = pickle.load(open(path + 'rfc_fe_val_proba.pkl', 'rb'))     # dimmention verified\n",
    "rfc_fe_train_proba = pickle.load(open(path + 'rfc_fe_train_proba.pkl', 'rb')) # dimmention verified\n",
    "rfc_fe_test_proba = pickle.load(open(path + 'rfc_fe_test_proba.pkl', 'rb'))   # dimmention verified\n",
    "print(\"rfc = train: {}, val: {}, test: {}\".format(rfc_fe_train_proba.shape, rfc_fe_val_proba.shape, rfc_fe_test_proba.shape))\n",
    "\n",
    "# Bag of words:\n",
    "print(\"Bag of words:\")\n",
    "rfc_bow_val_proba = pickle.load(open(path + 'rfc_bow_val_proba.pkl', 'rb'))      # dimmention verified\n",
    "rfc_bow_test_proba = pickle.load(open(path + 'rfc_bow_test_proba.pkl', 'rb'))    # dimmention verified\n",
    "rfc_bow_train_proba = pickle.load(open(path +  'rfc_bow_train_proba.pkl', 'rb')) # dimmention verified\n",
    "print(\"rfc = train: {}, val: {}, test: {}\".format(rfc_bow_train_proba.shape, rfc_bow_val_proba.shape, rfc_bow_test_proba.shape))\n",
    "\n",
    "xgb_bow_train_proba = pickle.load(open(path + 'xgb_bow_train_proba.pkl', 'rb')) #  bad dim (50,12)\n",
    "xgb_bow_test_proba = pickle.load(open(path +  'xgb_bow_test_proba.pkl', 'rb'))\n",
    "xgb_bow_val_proba =  pickle.load(open(path + 'xgb_bow_val_proba.pkl', 'rb'))\n",
    "print(\"xgb = train: {}, val: {}, test: {}\".format(xgb_bow_train_proba.shape, xgb_bow_val_proba.shape, xgb_bow_test_proba.shape))\n",
    "\n",
    "# tfidf\n",
    "print(\"Tfidf:\")\n",
    "rfc_tfidf_train_proba = pickle.load(open(path +  'rfc_tfidf_train_proba.pkl', 'rb')) # dimmention verified\n",
    "rfc_tfidf_test_proba =  pickle.load(open(path +  'rfc_tfidf_test_proba.pkl', 'rb'))  # dimmention verified\n",
    "rfc_tfidf_val_proba =  pickle.load(open(path +  'rfc_tfidf_val_proba.pkl', 'rb'))    # dimmention verified\n",
    "print(\"rfc = train: {}, val: {}, test: {}\".format(rfc_tfidf_train_proba.shape, rfc_tfidf_val_proba.shape, rfc_tfidf_test_proba.shape))\n",
    "\n",
    "xgb_tfidf_test_proba = pickle.load(open(path + 'xgb_tfidf_test_proba.pkl', 'rb')) # bad dim (50,12)\n",
    "xgb_tfidf_val_proba = pickle.load(open(path + 'xgb_tfidf_val_proba.pkl', 'rb'))\n",
    "xgb_tfidf_train_proba = pickle.load(open(path + 'xgb_tfidf_train_proba.pkl', 'rb'))\n",
    "print(\"xgb = train: {}, val: {}, test: {}\".format(xgb_tfidf_train_proba.shape, xgb_tfidf_val_proba.shape, xgb_tfidf_test_proba.shape))\n",
    "\n",
    "# # Load data\n",
    "# with open('data/reviews_post_feature_eng.pkl', 'rb') as f:\n",
    "#     reviews = pickle.load(f)\n",
    "    \n",
    "# label = 'HelpfullnessRank'\n",
    "# X = reviews.drop(label, axis=1)\n",
    "# y = reviews[label]\n",
    "\n",
    "# # Split to train, test and validation datasets:\n",
    "# X_train, X_test, y_train, y_test = train_test_split(X, y, test_size=0.4)\n",
    "# X_test, X_val, y_test, y_val = train_test_split(X_test, y_test, test_size=0.5)\n",
    "\n",
    "# X_train.shape, X_test.shape, X_val.shape\n",
    "\n",
    "\n"
   ]
  },
  {
   "cell_type": "code",
   "execution_count": 39,
   "metadata": {},
   "outputs": [],
   "source": [
    "df_cols = np.load('data/df_cols.npy')\n",
    "\n",
    "y_test = np.load('data/y_test.npy')\n",
    "y_train = np.load('data/y_train.npy')\n",
    "y_val = np.load('data/y_val.npy')"
   ]
  },
  {
   "cell_type": "code",
   "execution_count": 40,
   "metadata": {},
   "outputs": [],
   "source": [
    "def validate_accuracy(proba, y):\n",
    "    prediction = proba.argmax(axis=1)\n",
    "#     print(prediction.shape, y.shape)\n",
    "    return accuracy_score(y, prediction)\n",
    "    "
   ]
  },
  {
   "cell_type": "code",
   "execution_count": 41,
   "metadata": {},
   "outputs": [
    {
     "data": {
      "text/plain": [
       "0.6312746837616622"
      ]
     },
     "execution_count": 41,
     "metadata": {},
     "output_type": "execute_result"
    }
   ],
   "source": [
    "validate_accuracy(svm_fe_val_proba,y_val)"
   ]
  },
  {
   "cell_type": "code",
   "execution_count": 24,
   "metadata": {},
   "outputs": [
    {
     "ename": "AssertionError",
     "evalue": "",
     "output_type": "error",
     "traceback": [
      "\u001b[0;31m---------------------------------------------------------------------------\u001b[0m",
      "\u001b[0;31mAssertionError\u001b[0m                            Traceback (most recent call last)",
      "\u001b[0;32m<ipython-input-24-80eb9f687521>\u001b[0m in \u001b[0;36m<module>\u001b[0;34m()\u001b[0m\n\u001b[1;32m      2\u001b[0m \u001b[0;31m# assert round(validate_accuracy(xgb_tfidf_train_proba, y_train),2) == 0.99\u001b[0m\u001b[0;34m\u001b[0m\u001b[0;34m\u001b[0m\u001b[0m\n\u001b[1;32m      3\u001b[0m \u001b[0;32massert\u001b[0m \u001b[0mround\u001b[0m\u001b[0;34m(\u001b[0m\u001b[0mvalidate_accuracy\u001b[0m\u001b[0;34m(\u001b[0m\u001b[0mxgb_bow_val_proba\u001b[0m\u001b[0;34m,\u001b[0m \u001b[0my_val\u001b[0m\u001b[0;34m)\u001b[0m\u001b[0;34m,\u001b[0m\u001b[0;36m2\u001b[0m\u001b[0;34m)\u001b[0m \u001b[0;34m==\u001b[0m \u001b[0;36m0.62\u001b[0m\u001b[0;34m\u001b[0m\u001b[0m\n\u001b[0;32m----> 4\u001b[0;31m \u001b[0;32massert\u001b[0m \u001b[0mround\u001b[0m\u001b[0;34m(\u001b[0m\u001b[0mvalidate_accuracy\u001b[0m\u001b[0;34m(\u001b[0m\u001b[0mxgb_bow_train_proba\u001b[0m\u001b[0;34m,\u001b[0m \u001b[0my_train\u001b[0m\u001b[0;34m)\u001b[0m\u001b[0;34m,\u001b[0m\u001b[0;36m2\u001b[0m\u001b[0;34m)\u001b[0m \u001b[0;34m==\u001b[0m \u001b[0;36m0.99\u001b[0m\u001b[0;34m\u001b[0m\u001b[0m\n\u001b[0m\u001b[1;32m      5\u001b[0m \u001b[0;32massert\u001b[0m \u001b[0mround\u001b[0m\u001b[0;34m(\u001b[0m\u001b[0mvalidate_accuracy\u001b[0m\u001b[0;34m(\u001b[0m\u001b[0mxgb_fe_train_proba\u001b[0m\u001b[0;34m,\u001b[0m \u001b[0my_train\u001b[0m\u001b[0;34m)\u001b[0m\u001b[0;34m,\u001b[0m\u001b[0;36m2\u001b[0m\u001b[0;34m)\u001b[0m \u001b[0;34m==\u001b[0m \u001b[0;36m0.99\u001b[0m\u001b[0;34m\u001b[0m\u001b[0m\n\u001b[1;32m      6\u001b[0m \u001b[0;32massert\u001b[0m \u001b[0mround\u001b[0m\u001b[0;34m(\u001b[0m\u001b[0mvalidate_accuracy\u001b[0m\u001b[0;34m(\u001b[0m\u001b[0mxgb_fe_val_proba\u001b[0m\u001b[0;34m,\u001b[0m \u001b[0my_val\u001b[0m\u001b[0;34m)\u001b[0m\u001b[0;34m,\u001b[0m\u001b[0;36m2\u001b[0m\u001b[0;34m)\u001b[0m \u001b[0;34m==\u001b[0m \u001b[0;36m0.65\u001b[0m\u001b[0;34m\u001b[0m\u001b[0m\n",
      "\u001b[0;31mAssertionError\u001b[0m: "
     ]
    }
   ],
   "source": [
    "\n",
    "assert round(validate_accuracy(xgb_tfidf_val_proba, y_val),2) == 0.62\n",
    "assert round(validate_accuracy(xgb_tfidf_train_proba, y_train),2) == 0.99\n",
    "assert round(validate_accuracy(xgb_bow_val_proba, y_val),2) == 0.62\n",
    "assert round(validate_accuracy(xgb_bow_train_proba, y_train),2) == 0.99\n",
    "assert round(validate_accuracy(xgb_fe_train_proba, y_train),2) == 0.99\n",
    "assert round(validate_accuracy(xgb_fe_val_proba, y_val),2) == 0.65\n"
   ]
  },
  {
   "cell_type": "code",
   "execution_count": 31,
   "metadata": {},
   "outputs": [
    {
     "data": {
      "text/plain": [
       "0.66"
      ]
     },
     "execution_count": 31,
     "metadata": {},
     "output_type": "execute_result"
    }
   ],
   "source": [
    " round(validate_accuracy(xgb_fe_val_proba, y_val),2) \n"
   ]
  },
  {
   "cell_type": "code",
   "execution_count": null,
   "metadata": {},
   "outputs": [],
   "source": []
  }
 ],
 "metadata": {
  "kernelspec": {
   "display_name": "Python 3",
   "language": "python",
   "name": "python3"
  },
  "language_info": {
   "codemirror_mode": {
    "name": "ipython",
    "version": 3
   },
   "file_extension": ".py",
   "mimetype": "text/x-python",
   "name": "python",
   "nbconvert_exporter": "python",
   "pygments_lexer": "ipython3",
   "version": "3.6.4"
  }
 },
 "nbformat": 4,
 "nbformat_minor": 2
}
